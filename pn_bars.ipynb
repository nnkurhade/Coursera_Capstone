{
  "nbformat": 4,
  "nbformat_minor": 0,
  "metadata": {
    "colab": {
      "name": "Untitled7.ipynb",
      "provenance": [],
      "authorship_tag": "ABX9TyOfvOVG12ktrMd4SJH8BB1H",
      "include_colab_link": true
    },
    "kernelspec": {
      "name": "python3",
      "display_name": "Python 3"
    }
  },
  "cells": [
    {
      "cell_type": "markdown",
      "metadata": {
        "id": "view-in-github",
        "colab_type": "text"
      },
      "source": [
        "<a href=\"https://colab.research.google.com/github/nnkurhade/Coursera_Capstone/blob/master/pn_bars.ipynb\" target=\"_parent\"><img src=\"https://colab.research.google.com/assets/colab-badge.svg\" alt=\"Open In Colab\"/></a>"
      ]
    },
    {
      "cell_type": "code",
      "metadata": {
        "id": "fR4XiXAW61pi",
        "colab_type": "code",
        "colab": {
          "base_uri": "https://localhost:8080/",
          "height": 71
        },
        "outputId": "b3550aa7-10c9-43cf-9c9c-6bc872b953ca"
      },
      "source": [
        "import pandas as pd\n",
        "import numpy as np\n",
        "import matplotlib as mpl\n",
        "import matplotlib.pyplot as plt\n",
        "import seaborn as sns"
      ],
      "execution_count": 1,
      "outputs": [
        {
          "output_type": "stream",
          "text": [
            "/usr/local/lib/python3.6/dist-packages/statsmodels/tools/_testing.py:19: FutureWarning: pandas.util.testing is deprecated. Use the functions in the public API at pandas.testing instead.\n",
            "  import pandas.util.testing as tm\n"
          ],
          "name": "stderr"
        }
      ]
    },
    {
      "cell_type": "code",
      "metadata": {
        "id": "Hg8s4prx7FOI",
        "colab_type": "code",
        "colab": {}
      },
      "source": [
        "A = [['Office', 'Tea', 'Art Gallery', 'Board Shop', 'College Auditorium',\n",
        "       'Gas Station', 'Market', 'Theater', 'Lounge', 'Other Great Outdoors','Moving Target', 'Pool', 'Bus Station', 'Recording Studio',\n",
        "       'Auto Workshop', 'Café', 'Beer Store', 'Plaza', 'Hotel', 'Bar'],[ 0.34317604,  0.13356995,  0.32932802,  0.16326679,  0.09967669,  0.06460877,\n",
        "   0.0814257,   0.18881352,  0.09591217,  0.20419373, -0.01407976, -0.02922841,\n",
        "  -0.03497853,  0.01219622,  0.01219622,  0.11510811, -0.08110269, -0.11218965,\n",
        "  -0.023288,    0.03725251]]\n"
      ],
      "execution_count": 4,
      "outputs": []
    },
    {
      "cell_type": "code",
      "metadata": {
        "id": "Dz8JrNwg8H1P",
        "colab_type": "code",
        "colab": {
          "base_uri": "https://localhost:8080/",
          "height": 669
        },
        "outputId": "c73f293d-a8b1-4b67-8381-0ce2ef193315"
      },
      "source": [
        "df = pd.DataFrame(data = np.transpose(A), columns = ['Venue Categories','Coefficients'])\n",
        "df"
      ],
      "execution_count": 8,
      "outputs": [
        {
          "output_type": "execute_result",
          "data": {
            "text/html": [
              "<div>\n",
              "<style scoped>\n",
              "    .dataframe tbody tr th:only-of-type {\n",
              "        vertical-align: middle;\n",
              "    }\n",
              "\n",
              "    .dataframe tbody tr th {\n",
              "        vertical-align: top;\n",
              "    }\n",
              "\n",
              "    .dataframe thead th {\n",
              "        text-align: right;\n",
              "    }\n",
              "</style>\n",
              "<table border=\"1\" class=\"dataframe\">\n",
              "  <thead>\n",
              "    <tr style=\"text-align: right;\">\n",
              "      <th></th>\n",
              "      <th>Venue Categories</th>\n",
              "      <th>Coefficients</th>\n",
              "    </tr>\n",
              "  </thead>\n",
              "  <tbody>\n",
              "    <tr>\n",
              "      <th>0</th>\n",
              "      <td>Office</td>\n",
              "      <td>0.34317604</td>\n",
              "    </tr>\n",
              "    <tr>\n",
              "      <th>1</th>\n",
              "      <td>Tea</td>\n",
              "      <td>0.13356995</td>\n",
              "    </tr>\n",
              "    <tr>\n",
              "      <th>2</th>\n",
              "      <td>Art Gallery</td>\n",
              "      <td>0.32932802</td>\n",
              "    </tr>\n",
              "    <tr>\n",
              "      <th>3</th>\n",
              "      <td>Board Shop</td>\n",
              "      <td>0.16326679</td>\n",
              "    </tr>\n",
              "    <tr>\n",
              "      <th>4</th>\n",
              "      <td>College Auditorium</td>\n",
              "      <td>0.09967669</td>\n",
              "    </tr>\n",
              "    <tr>\n",
              "      <th>5</th>\n",
              "      <td>Gas Station</td>\n",
              "      <td>0.06460877</td>\n",
              "    </tr>\n",
              "    <tr>\n",
              "      <th>6</th>\n",
              "      <td>Market</td>\n",
              "      <td>0.0814257</td>\n",
              "    </tr>\n",
              "    <tr>\n",
              "      <th>7</th>\n",
              "      <td>Theater</td>\n",
              "      <td>0.18881352</td>\n",
              "    </tr>\n",
              "    <tr>\n",
              "      <th>8</th>\n",
              "      <td>Lounge</td>\n",
              "      <td>0.09591217</td>\n",
              "    </tr>\n",
              "    <tr>\n",
              "      <th>9</th>\n",
              "      <td>Other Great Outdoors</td>\n",
              "      <td>0.20419373</td>\n",
              "    </tr>\n",
              "    <tr>\n",
              "      <th>10</th>\n",
              "      <td>Moving Target</td>\n",
              "      <td>-0.01407976</td>\n",
              "    </tr>\n",
              "    <tr>\n",
              "      <th>11</th>\n",
              "      <td>Pool</td>\n",
              "      <td>-0.02922841</td>\n",
              "    </tr>\n",
              "    <tr>\n",
              "      <th>12</th>\n",
              "      <td>Bus Station</td>\n",
              "      <td>-0.03497853</td>\n",
              "    </tr>\n",
              "    <tr>\n",
              "      <th>13</th>\n",
              "      <td>Recording Studio</td>\n",
              "      <td>0.01219622</td>\n",
              "    </tr>\n",
              "    <tr>\n",
              "      <th>14</th>\n",
              "      <td>Auto Workshop</td>\n",
              "      <td>0.01219622</td>\n",
              "    </tr>\n",
              "    <tr>\n",
              "      <th>15</th>\n",
              "      <td>Café</td>\n",
              "      <td>0.11510811</td>\n",
              "    </tr>\n",
              "    <tr>\n",
              "      <th>16</th>\n",
              "      <td>Beer Store</td>\n",
              "      <td>-0.08110269</td>\n",
              "    </tr>\n",
              "    <tr>\n",
              "      <th>17</th>\n",
              "      <td>Plaza</td>\n",
              "      <td>-0.11218965</td>\n",
              "    </tr>\n",
              "    <tr>\n",
              "      <th>18</th>\n",
              "      <td>Hotel</td>\n",
              "      <td>-0.023288</td>\n",
              "    </tr>\n",
              "    <tr>\n",
              "      <th>19</th>\n",
              "      <td>Bar</td>\n",
              "      <td>0.03725251</td>\n",
              "    </tr>\n",
              "  </tbody>\n",
              "</table>\n",
              "</div>"
            ],
            "text/plain": [
              "        Venue Categories Coefficients\n",
              "0                 Office   0.34317604\n",
              "1                    Tea   0.13356995\n",
              "2            Art Gallery   0.32932802\n",
              "3             Board Shop   0.16326679\n",
              "4     College Auditorium   0.09967669\n",
              "5            Gas Station   0.06460877\n",
              "6                 Market    0.0814257\n",
              "7                Theater   0.18881352\n",
              "8                 Lounge   0.09591217\n",
              "9   Other Great Outdoors   0.20419373\n",
              "10         Moving Target  -0.01407976\n",
              "11                  Pool  -0.02922841\n",
              "12           Bus Station  -0.03497853\n",
              "13      Recording Studio   0.01219622\n",
              "14         Auto Workshop   0.01219622\n",
              "15                  Café   0.11510811\n",
              "16            Beer Store  -0.08110269\n",
              "17                 Plaza  -0.11218965\n",
              "18                 Hotel    -0.023288\n",
              "19                   Bar   0.03725251"
            ]
          },
          "metadata": {
            "tags": []
          },
          "execution_count": 8
        }
      ]
    },
    {
      "cell_type": "code",
      "metadata": {
        "id": "-mGZRfA68fsX",
        "colab_type": "code",
        "colab": {
          "base_uri": "https://localhost:8080/",
          "height": 669
        },
        "outputId": "72c895e2-0739-45b8-984e-8af6ea07c4e7"
      },
      "source": [
        "df.sort_values('Coefficients', ascending = False)"
      ],
      "execution_count": 9,
      "outputs": [
        {
          "output_type": "execute_result",
          "data": {
            "text/html": [
              "<div>\n",
              "<style scoped>\n",
              "    .dataframe tbody tr th:only-of-type {\n",
              "        vertical-align: middle;\n",
              "    }\n",
              "\n",
              "    .dataframe tbody tr th {\n",
              "        vertical-align: top;\n",
              "    }\n",
              "\n",
              "    .dataframe thead th {\n",
              "        text-align: right;\n",
              "    }\n",
              "</style>\n",
              "<table border=\"1\" class=\"dataframe\">\n",
              "  <thead>\n",
              "    <tr style=\"text-align: right;\">\n",
              "      <th></th>\n",
              "      <th>Venue Categories</th>\n",
              "      <th>Coefficients</th>\n",
              "    </tr>\n",
              "  </thead>\n",
              "  <tbody>\n",
              "    <tr>\n",
              "      <th>0</th>\n",
              "      <td>Office</td>\n",
              "      <td>0.34317604</td>\n",
              "    </tr>\n",
              "    <tr>\n",
              "      <th>2</th>\n",
              "      <td>Art Gallery</td>\n",
              "      <td>0.32932802</td>\n",
              "    </tr>\n",
              "    <tr>\n",
              "      <th>9</th>\n",
              "      <td>Other Great Outdoors</td>\n",
              "      <td>0.20419373</td>\n",
              "    </tr>\n",
              "    <tr>\n",
              "      <th>7</th>\n",
              "      <td>Theater</td>\n",
              "      <td>0.18881352</td>\n",
              "    </tr>\n",
              "    <tr>\n",
              "      <th>3</th>\n",
              "      <td>Board Shop</td>\n",
              "      <td>0.16326679</td>\n",
              "    </tr>\n",
              "    <tr>\n",
              "      <th>1</th>\n",
              "      <td>Tea</td>\n",
              "      <td>0.13356995</td>\n",
              "    </tr>\n",
              "    <tr>\n",
              "      <th>15</th>\n",
              "      <td>Café</td>\n",
              "      <td>0.11510811</td>\n",
              "    </tr>\n",
              "    <tr>\n",
              "      <th>4</th>\n",
              "      <td>College Auditorium</td>\n",
              "      <td>0.09967669</td>\n",
              "    </tr>\n",
              "    <tr>\n",
              "      <th>8</th>\n",
              "      <td>Lounge</td>\n",
              "      <td>0.09591217</td>\n",
              "    </tr>\n",
              "    <tr>\n",
              "      <th>6</th>\n",
              "      <td>Market</td>\n",
              "      <td>0.0814257</td>\n",
              "    </tr>\n",
              "    <tr>\n",
              "      <th>5</th>\n",
              "      <td>Gas Station</td>\n",
              "      <td>0.06460877</td>\n",
              "    </tr>\n",
              "    <tr>\n",
              "      <th>19</th>\n",
              "      <td>Bar</td>\n",
              "      <td>0.03725251</td>\n",
              "    </tr>\n",
              "    <tr>\n",
              "      <th>13</th>\n",
              "      <td>Recording Studio</td>\n",
              "      <td>0.01219622</td>\n",
              "    </tr>\n",
              "    <tr>\n",
              "      <th>14</th>\n",
              "      <td>Auto Workshop</td>\n",
              "      <td>0.01219622</td>\n",
              "    </tr>\n",
              "    <tr>\n",
              "      <th>17</th>\n",
              "      <td>Plaza</td>\n",
              "      <td>-0.11218965</td>\n",
              "    </tr>\n",
              "    <tr>\n",
              "      <th>16</th>\n",
              "      <td>Beer Store</td>\n",
              "      <td>-0.08110269</td>\n",
              "    </tr>\n",
              "    <tr>\n",
              "      <th>12</th>\n",
              "      <td>Bus Station</td>\n",
              "      <td>-0.03497853</td>\n",
              "    </tr>\n",
              "    <tr>\n",
              "      <th>11</th>\n",
              "      <td>Pool</td>\n",
              "      <td>-0.02922841</td>\n",
              "    </tr>\n",
              "    <tr>\n",
              "      <th>18</th>\n",
              "      <td>Hotel</td>\n",
              "      <td>-0.023288</td>\n",
              "    </tr>\n",
              "    <tr>\n",
              "      <th>10</th>\n",
              "      <td>Moving Target</td>\n",
              "      <td>-0.01407976</td>\n",
              "    </tr>\n",
              "  </tbody>\n",
              "</table>\n",
              "</div>"
            ],
            "text/plain": [
              "        Venue Categories Coefficients\n",
              "0                 Office   0.34317604\n",
              "2            Art Gallery   0.32932802\n",
              "9   Other Great Outdoors   0.20419373\n",
              "7                Theater   0.18881352\n",
              "3             Board Shop   0.16326679\n",
              "1                    Tea   0.13356995\n",
              "15                  Café   0.11510811\n",
              "4     College Auditorium   0.09967669\n",
              "8                 Lounge   0.09591217\n",
              "6                 Market    0.0814257\n",
              "5            Gas Station   0.06460877\n",
              "19                   Bar   0.03725251\n",
              "13      Recording Studio   0.01219622\n",
              "14         Auto Workshop   0.01219622\n",
              "17                 Plaza  -0.11218965\n",
              "16            Beer Store  -0.08110269\n",
              "12           Bus Station  -0.03497853\n",
              "11                  Pool  -0.02922841\n",
              "18                 Hotel    -0.023288\n",
              "10         Moving Target  -0.01407976"
            ]
          },
          "metadata": {
            "tags": []
          },
          "execution_count": 9
        }
      ]
    },
    {
      "cell_type": "code",
      "metadata": {
        "id": "Xl_KjZlB-_Pp",
        "colab_type": "code",
        "colab": {}
      },
      "source": [
        ""
      ],
      "execution_count": null,
      "outputs": []
    },
    {
      "cell_type": "code",
      "metadata": {
        "id": "9X2VVD3a9SiO",
        "colab_type": "code",
        "colab": {}
      },
      "source": [
        "# Figure Size \n",
        "fig, ax = plt.subplots(figsize =(10,20)) \n",
        "# Horizontal Bar Plot \n",
        " \n",
        "# Remove axes splines \n",
        "for s in ['top', 'left', 'right']: \n",
        "    ax.spines[s].set_visible(False) \n",
        "#set axis colors|\n",
        "#ax.set_color('gray')\n",
        "#ax[0].set_color('r') \n",
        "# Remove x, y Ticks \n",
        "ax.xaxis.set_ticks_position('none') \n",
        "ax.yaxis.set_ticks_position('none') \n",
        "  \n",
        "# Add padding between axes and labels \n",
        "ax.xaxis.set_tick_params(pad = 5) \n",
        "ax.yaxis.set_tick_params(pad = 10) \n",
        "  \n",
        "# Add x, y gridlines \n",
        "ax.grid(b = True, color =(0.5,0.5,0.5,0.7), \n",
        "        linestyle ='-.', linewidth = 0.5, \n",
        "        alpha = 0.2) \n",
        "  \n",
        "# Show top values  \n",
        "ax.invert_yaxis() \n",
        "  \n",
        "# Add annotation to bars \n",
        "for i in ax.patches: \n",
        "    plt.text(i.get_width()+0.2, i.get_y()+0.5,  \n",
        "             str(round((i.get_width()), 2)), \n",
        "             fontsize = 10, fontweight ='bold', \n",
        "             color ='gray') \n",
        "  \n",
        "# Add Plot Title \n",
        "ax.set_title('Most Important Venue Categories', \n",
        "             loc ='centre', ) \n",
        "\n",
        "  \n",
        "# Show Plot \n",
        "plt.savefig('neighborhood_categories.png', bbox_inches='tight')\n",
        "plt.show()"
      ],
      "execution_count": null,
      "outputs": []
    },
    {
      "cell_type": "code",
      "metadata": {
        "id": "LcAX_kck-ZxN",
        "colab_type": "code",
        "colab": {}
      },
      "source": [
        "B = [ 0.00836186,  0.01508706,  0.00215853,  0.00165346,  0.00096164  ,0.00104995,\n",
        "   0.00093456,  0.00128012 ,-0.02849837  ,0.10059604 ,-0.01238204 ,-0.02051879,\n",
        "  -0.04109025,  0.01032985 , 0.04046255 ,-0.00693367 ,-0.02159264 ,-0.09303933,\n",
        "  -0.009838,    0.01704327 , 0.00081783 ,-0.05483069 , 0.03249868 , 0.01648883,\n",
        "   0.09761243,  0.00116876 , 0.04504083 , 0.02132458 , 0.02441502 , 0.00119934,\n",
        "   0.0570544  ,-0.03027196 ,-0.0399222  , 0.01092459 , 0.00899782 ,-0.05249182,\n",
        "   0.02508531  ,0.0085655  , 0.02845024 ,-0.00606136 , 0.0008893  , 0.01093584,\n",
        "   0.04858156 , 0.00044332 , 0.08785333 , 0.07892637 , 0.04957946  ,0.04970884,\n",
        "  -0.0026597  ,-0.01031044 , 0.05285034 , 0.02213821 , 0.07808295  ,0.06405831,\n",
        "   0.00948478 ,-0.02760496 ,-0.00560075 , 0.04875987 , 0.0118172   ,0.03850959,\n",
        "   0.06126686 , 0.0112615  , 0.06962481 ,-0.0004844  ,-0.01463859  ,0.0122717,\n",
        "   0.00059633 , 0.00570196 ,-0.03107404 , 0.04118463 ,-0.02194296  ,0.00061855,\n",
        "   0.00660755 , 0.01147109 ,-0.00194422 , 0.01653628 , 0.04339765  ,0.00792144,\n",
        "   0.00828798 ,-0.00902098 , 0.00115473 , 0.01612935 ,-0.00982224,  0.08531084,\n",
        "  -0.02675204 , 0.00943078 , 0.05625711 , 0.03418078 , 0.00115473,  0.00493596,\n",
        "   0.01085172 , 0.00076982 ,-0.00199514 ,-0.01290376 , 0.00526717,  0.00115473,\n",
        "  -0.02677191 , 0.06737561 , 0.00115473 , 0.00115473 , 0.00096227 ,-0.07961238,\n",
        "  -0.02689523 , 0.04536807 , 0.01003888 ,-0.01435214 , 0.03741327 , 0.07784566,\n",
        "   0.07320366 , 0.03516897 , 0.08212567 ,-0.01035037 , 0.08336571 ,-0.01290376,\n",
        "  -0.00169968 ,-0.00270405 , 0.05973633 ,-0.01775278 , 0.04819634 ,-0.00019245,\n",
        "   0.0331546  ,-0.00894144 ,-0.03122961 , 0.07748845 , 0.02183256 , 0.00415891,\n",
        "   0.17299193 , 0.05445428 , 0.00096227 , 0.00115473 , 0.08054924 , 0.00328455,\n",
        "  -0.00557498 ,-0.01968109 , 0.05327905 , 0.0227588  , 0.03175123 ,-0.0617996,\n",
        "  -0.03967367 ,-0.0285909  ,-0.02143102 , 0.0618587  ,-0.04054278 ,-0.00255838,\n",
        "   0.05015161 ,-0.00627599 ,-0.00655924 ,-0.02662661 ,-0.0026114  , 0.02135141,\n",
        "  -0.02942734 ,-0.02219196 , 0.02592618 , 0.00576089 ,-0.01766691 , 0.01375416,\n",
        "   0.0154997  ,-0.03102066 ,-0.01903513 , 0.02106709 , 0.05736089 , 0.02988848,\n",
        "  -0.00814792 , 0.01069261 , 0.04485729 , 0.00762485 , 0.170612   , 0.08319417,\n",
        "   0.00380499 ,-0.0066132  , 0.02731227 , 0.01916667 , 0.00944131 , 0.00173209]"
      ],
      "execution_count": 93,
      "outputs": []
    },
    {
      "cell_type": "code",
      "metadata": {
        "id": "-nKoRMHsArcW",
        "colab_type": "code",
        "colab": {}
      },
      "source": [
        "df2 = pd.DataFrame(data = B, columns=['coeff'])"
      ],
      "execution_count": 94,
      "outputs": []
    },
    {
      "cell_type": "code",
      "metadata": {
        "id": "OVlaBfpiBo7k",
        "colab_type": "code",
        "colab": {
          "base_uri": "https://localhost:8080/",
          "height": 34
        },
        "outputId": "14fbcdc2-d8c3-47e3-e281-d091efa790e6"
      },
      "source": [
        "df2.shape"
      ],
      "execution_count": 95,
      "outputs": [
        {
          "output_type": "execute_result",
          "data": {
            "text/plain": [
              "(174, 1)"
            ]
          },
          "metadata": {
            "tags": []
          },
          "execution_count": 95
        }
      ]
    },
    {
      "cell_type": "code",
      "metadata": {
        "id": "rQe3nqPnCcZq",
        "colab_type": "code",
        "colab": {}
      },
      "source": [
        "df2.sort_values('coeff', ascending = False, inplace = True)\n"
      ],
      "execution_count": 96,
      "outputs": []
    },
    {
      "cell_type": "code",
      "metadata": {
        "id": "Yeqhg5dEBqnH",
        "colab_type": "code",
        "colab": {}
      },
      "source": [
        "df3 = df2.head(10)\n",
        "df4 = df2.tail(10)\n",
        "df5 = pd.concat([df3['coeff'],df4['coeff']])\n",
        "df5 = pd.DataFrame(data = df5, columns = ['coeff'])"
      ],
      "execution_count": 97,
      "outputs": []
    },
    {
      "cell_type": "code",
      "metadata": {
        "id": "ox2dK9VoB-Wm",
        "colab_type": "code",
        "colab": {}
      },
      "source": [
        "df5.index = A[0]"
      ],
      "execution_count": 98,
      "outputs": []
    },
    {
      "cell_type": "code",
      "metadata": {
        "id": "ANnptEcnCSko",
        "colab_type": "code",
        "colab": {
          "base_uri": "https://localhost:8080/",
          "height": 393
        },
        "outputId": "b7683a91-7280-49cf-b8d5-8aaf091b1d89"
      },
      "source": [
        "df5['categories'] = df5.index\n",
        "df5.plot.bar(x= 'categories', y='coeff', title=\"Test Plot\");\n",
        "plt.xticks(ticks = None)\n",
        "plt.show(block=True)"
      ],
      "execution_count": 99,
      "outputs": [
        {
          "output_type": "display_data",
          "data": {
            "image/png": "[encoded data removed]",
            "text/plain": [
              "<Figure size 432x288 with 1 Axes>"
            ]
          },
          "metadata": {
            "tags": [],
            "needs_background": "light"
          }
        }
      ]
    },
    {
      "cell_type": "code",
      "metadata": {
        "id": "jM_v2822FUnn",
        "colab_type": "code",
        "colab": {
          "base_uri": "https://localhost:8080/",
          "height": 221
        },
        "outputId": "88f7acd6-0805-41c4-cfa7-f9f51848b819"
      },
      "source": [
        "!pip install altair vega_datasets"
      ],
      "execution_count": 100,
      "outputs": [
        {
          "output_type": "stream",
          "text": [
            "Requirement already satisfied: altair in /usr/local/lib/python3.6/dist-packages (4.1.0)\n",
            "Requirement already satisfied: vega_datasets in /usr/local/lib/python3.6/dist-packages (0.8.0)\n",
            "Requirement already satisfied: pandas>=0.18 in /usr/local/lib/python3.6/dist-packages (from altair) (1.0.5)\n",
            "Requirement already satisfied: toolz in /usr/local/lib/python3.6/dist-packages (from altair) (0.10.0)\n",
            "Requirement already satisfied: entrypoints in /usr/local/lib/python3.6/dist-packages (from altair) (0.3)\n",
            "Requirement already satisfied: jsonschema in /usr/local/lib/python3.6/dist-packages (from altair) (2.6.0)\n",
            "Requirement already satisfied: numpy in /usr/local/lib/python3.6/dist-packages (from altair) (1.18.5)\n",
            "Requirement already satisfied: jinja2 in /usr/local/lib/python3.6/dist-packages (from altair) (2.11.2)\n",
            "Requirement already satisfied: pytz>=2017.2 in /usr/local/lib/python3.6/dist-packages (from pandas>=0.18->altair) (2018.9)\n",
            "Requirement already satisfied: python-dateutil>=2.6.1 in /usr/local/lib/python3.6/dist-packages (from pandas>=0.18->altair) (2.8.1)\n",
            "Requirement already satisfied: MarkupSafe>=0.23 in /usr/local/lib/python3.6/dist-packages (from jinja2->altair) (1.1.1)\n",
            "Requirement already satisfied: six>=1.5 in /usr/local/lib/python3.6/dist-packages (from python-dateutil>=2.6.1->pandas>=0.18->altair) (1.15.0)\n"
          ],
          "name": "stdout"
        }
      ]
    },
    {
      "cell_type": "code",
      "metadata": {
        "id": "nsBVMDvHRJ2_",
        "colab_type": "code",
        "colab": {
          "base_uri": "https://localhost:8080/",
          "height": 547
        },
        "outputId": "ed5fb66f-2ed5-4cdb-da5a-27950eb81847"
      },
      "source": [
        "!pip install -q altair_saver\n",
        "!apt-get -qq install chromium-chromedriver\n",
        "!npm install --silent vega-lite vega-cli canvas\n",
        "from altair_saver import save"
      ],
      "execution_count": 103,
      "outputs": [
        {
          "output_type": "stream",
          "text": [
            "\u001b[K     |████████████████████████████████| 92kB 3.2MB/s \n",
            "\u001b[K     |████████████████████████████████| 563kB 7.9MB/s \n",
            "\u001b[K     |████████████████████████████████| 911kB 8.7MB/s \n",
            "\u001b[?25hSelecting previously unselected package chromium-codecs-ffmpeg-extra.\n",
            "(Reading database ... 144579 files and directories currently installed.)\n",
            "Preparing to unpack .../chromium-codecs-ffmpeg-extra_84.0.4147.105-0ubuntu0.18.04.1_amd64.deb ...\n",
            "Unpacking chromium-codecs-ffmpeg-extra (84.0.4147.105-0ubuntu0.18.04.1) ...\n",
            "Selecting previously unselected package chromium-browser.\n",
            "Preparing to unpack .../chromium-browser_84.0.4147.105-0ubuntu0.18.04.1_amd64.deb ...\n",
            "Unpacking chromium-browser (84.0.4147.105-0ubuntu0.18.04.1) ...\n",
            "Selecting previously unselected package chromium-browser-l10n.\n",
            "Preparing to unpack .../chromium-browser-l10n_84.0.4147.105-0ubuntu0.18.04.1_all.deb ...\n",
            "Unpacking chromium-browser-l10n (84.0.4147.105-0ubuntu0.18.04.1) ...\n",
            "Selecting previously unselected package chromium-chromedriver.\n",
            "Preparing to unpack .../chromium-chromedriver_84.0.4147.105-0ubuntu0.18.04.1_amd64.deb ...\n",
            "Unpacking chromium-chromedriver (84.0.4147.105-0ubuntu0.18.04.1) ...\n",
            "Setting up chromium-codecs-ffmpeg-extra (84.0.4147.105-0ubuntu0.18.04.1) ...\n",
            "Setting up chromium-browser (84.0.4147.105-0ubuntu0.18.04.1) ...\n",
            "update-alternatives: using /usr/bin/chromium-browser to provide /usr/bin/x-www-browser (x-www-browser) in auto mode\n",
            "update-alternatives: using /usr/bin/chromium-browser to provide /usr/bin/gnome-www-browser (gnome-www-browser) in auto mode\n",
            "Setting up chromium-chromedriver (84.0.4147.105-0ubuntu0.18.04.1) ...\n",
            "Setting up chromium-browser-l10n (84.0.4147.105-0ubuntu0.18.04.1) ...\n",
            "Processing triggers for hicolor-icon-theme (0.17-2) ...\n",
            "Processing triggers for mime-support (3.60ubuntu1) ...\n",
            "Processing triggers for man-db (2.8.3-2ubuntu0.1) ...\n",
            "\u001b[K\u001b[?25h[canvas] Success: \"/content/node_modules/canvas/build/Release/canvas.node\" is installed via remote\n",
            "\u001b[K\u001b[?25h+ canvas@2.6.1\n",
            "+ vega-cli@5.15.0\n",
            "+ vega-lite@4.15.0\n",
            "added 170 packages from 85 contributors in 11.709s\n"
          ],
          "name": "stdout"
        }
      ]
    },
    {
      "cell_type": "code",
      "metadata": {
        "id": "AjCOvjcaGd6I",
        "colab_type": "code",
        "colab": {}
      },
      "source": [
        "import altair as alt\n",
        "from vega_datasets import data\n",
        "\n",
        "source = df5\n",
        "\n",
        "bars = alt.Chart(source).mark_bar().encode(\n",
        "    x=\"categories:O\",\n",
        "    y=\"coeff:Q\",\n",
        "    color=alt.condition(\n",
        "        alt.datum.coeff > 0.00000000,\n",
        "        alt.value(\"steelblue\"),  # The positive color\n",
        "        alt.value(\"orange\")  # The negative color\n",
        "    )\n",
        ").properties(width=600)\n",
        "\n",
        "save(bars, f'chart.png')"
      ],
      "execution_count": 106,
      "outputs": []
    },
    {
      "cell_type": "code",
      "metadata": {
        "id": "ILtk5nn-HBRs",
        "colab_type": "code",
        "colab": {
          "base_uri": "https://localhost:8080/",
          "height": 34
        },
        "outputId": "05bca956-06dd-4170-c330-7eb84777ca09"
      },
      "source": [
        "print(alt.datum.nonfarm_change)"
      ],
      "execution_count": 64,
      "outputs": [
        {
          "output_type": "stream",
          "text": [
            "datum.nonfarm_change\n"
          ],
          "name": "stdout"
        }
      ]
    },
    {
      "cell_type": "code",
      "metadata": {
        "id": "YFvxXgcAKupQ",
        "colab_type": "code",
        "colab": {}
      },
      "source": [
        ""
      ],
      "execution_count": null,
      "outputs": []
    }
  ]
}